{
 "cells": [
  {
   "cell_type": "markdown",
   "metadata": {},
   "source": [
    "# Austin Chang Personal Project- Predicting App Ratings"
   ]
  },
  {
   "cell_type": "code",
   "execution_count": 1,
   "metadata": {},
   "outputs": [],
   "source": [
    "import numpy as np\n",
    "import pandas as pd\n",
    "import matplotlib.pyplot as plt\n",
    "\n",
    "from sklearn.model_selection import train_test_split, cross_val_score, cross_validate, GridSearchCV, TimeSeriesSplit\n",
    "from sklearn.preprocessing import MinMaxScaler, StandardScaler, RobustScaler, QuantileTransformer\n",
    "from sklearn.impute import SimpleImputer\n",
    "from sklearn.compose import ColumnTransformer\n",
    "from sklearn.pipeline import Pipeline, make_pipeline\n",
    "from sklearn.preprocessing import StandardScaler, OneHotEncoder, FunctionTransformer, OrdinalEncoder\n",
    "from sklearn.feature_extraction.text import CountVectorizer\n",
    "from sklearn.dummy import DummyRegressor\n",
    "from sklearn.linear_model import Ridge\n",
    "from lightgbm import LGBMRegressor\n",
    "from sklearn.ensemble import RandomForestRegressor\n",
    "from sklearn.compose import TransformedTargetRegressor"
   ]
  },
  {
   "cell_type": "markdown",
   "metadata": {},
   "source": [
    "## Purpose\n",
    "The goal of this project is to predict the price of app ratings given the Google Play store app ratings I found from [Kaggle](https://www.kaggle.com/lava18/google-play-store-apps). This model could be useful for those looking to see if their app would be rated well on the Google Play store. Furthermore, it could be useful to those looking to invest in an app and determining whether an app will do well based on its rating\n"
   ]
  },
  {
   "cell_type": "markdown",
   "metadata": {},
   "source": [
    "## Preprocessing the Data"
   ]
  },
  {
   "cell_type": "code",
   "execution_count": 2,
   "metadata": {},
   "outputs": [
    {
     "data": {
      "text/html": [
       "<div>\n",
       "<style scoped>\n",
       "    .dataframe tbody tr th:only-of-type {\n",
       "        vertical-align: middle;\n",
       "    }\n",
       "\n",
       "    .dataframe tbody tr th {\n",
       "        vertical-align: top;\n",
       "    }\n",
       "\n",
       "    .dataframe thead th {\n",
       "        text-align: right;\n",
       "    }\n",
       "</style>\n",
       "<table border=\"1\" class=\"dataframe\">\n",
       "  <thead>\n",
       "    <tr style=\"text-align: right;\">\n",
       "      <th></th>\n",
       "      <th>App</th>\n",
       "      <th>Category</th>\n",
       "      <th>Rating</th>\n",
       "      <th>Reviews</th>\n",
       "      <th>Size</th>\n",
       "      <th>Installs</th>\n",
       "      <th>Type</th>\n",
       "      <th>Price</th>\n",
       "      <th>Content Rating</th>\n",
       "      <th>Genres</th>\n",
       "      <th>Last Updated</th>\n",
       "      <th>Current Ver</th>\n",
       "      <th>Android Ver</th>\n",
       "    </tr>\n",
       "  </thead>\n",
       "  <tbody>\n",
       "    <tr>\n",
       "      <th>0</th>\n",
       "      <td>Photo Editor &amp; Candy Camera &amp; Grid &amp; ScrapBook</td>\n",
       "      <td>ART_AND_DESIGN</td>\n",
       "      <td>4.1</td>\n",
       "      <td>159</td>\n",
       "      <td>19M</td>\n",
       "      <td>10,000+</td>\n",
       "      <td>Free</td>\n",
       "      <td>0</td>\n",
       "      <td>Everyone</td>\n",
       "      <td>Art &amp; Design</td>\n",
       "      <td>January 7, 2018</td>\n",
       "      <td>1.0.0</td>\n",
       "      <td>4.0.3 and up</td>\n",
       "    </tr>\n",
       "    <tr>\n",
       "      <th>1</th>\n",
       "      <td>Coloring book moana</td>\n",
       "      <td>ART_AND_DESIGN</td>\n",
       "      <td>3.9</td>\n",
       "      <td>967</td>\n",
       "      <td>14M</td>\n",
       "      <td>500,000+</td>\n",
       "      <td>Free</td>\n",
       "      <td>0</td>\n",
       "      <td>Everyone</td>\n",
       "      <td>Art &amp; Design;Pretend Play</td>\n",
       "      <td>January 15, 2018</td>\n",
       "      <td>2.0.0</td>\n",
       "      <td>4.0.3 and up</td>\n",
       "    </tr>\n",
       "    <tr>\n",
       "      <th>2</th>\n",
       "      <td>U Launcher Lite – FREE Live Cool Themes, Hide ...</td>\n",
       "      <td>ART_AND_DESIGN</td>\n",
       "      <td>4.7</td>\n",
       "      <td>87510</td>\n",
       "      <td>8.7M</td>\n",
       "      <td>5,000,000+</td>\n",
       "      <td>Free</td>\n",
       "      <td>0</td>\n",
       "      <td>Everyone</td>\n",
       "      <td>Art &amp; Design</td>\n",
       "      <td>August 1, 2018</td>\n",
       "      <td>1.2.4</td>\n",
       "      <td>4.0.3 and up</td>\n",
       "    </tr>\n",
       "    <tr>\n",
       "      <th>3</th>\n",
       "      <td>Sketch - Draw &amp; Paint</td>\n",
       "      <td>ART_AND_DESIGN</td>\n",
       "      <td>4.5</td>\n",
       "      <td>215644</td>\n",
       "      <td>25M</td>\n",
       "      <td>50,000,000+</td>\n",
       "      <td>Free</td>\n",
       "      <td>0</td>\n",
       "      <td>Teen</td>\n",
       "      <td>Art &amp; Design</td>\n",
       "      <td>June 8, 2018</td>\n",
       "      <td>Varies with device</td>\n",
       "      <td>4.2 and up</td>\n",
       "    </tr>\n",
       "    <tr>\n",
       "      <th>4</th>\n",
       "      <td>Pixel Draw - Number Art Coloring Book</td>\n",
       "      <td>ART_AND_DESIGN</td>\n",
       "      <td>4.3</td>\n",
       "      <td>967</td>\n",
       "      <td>2.8M</td>\n",
       "      <td>100,000+</td>\n",
       "      <td>Free</td>\n",
       "      <td>0</td>\n",
       "      <td>Everyone</td>\n",
       "      <td>Art &amp; Design;Creativity</td>\n",
       "      <td>June 20, 2018</td>\n",
       "      <td>1.1</td>\n",
       "      <td>4.4 and up</td>\n",
       "    </tr>\n",
       "  </tbody>\n",
       "</table>\n",
       "</div>"
      ],
      "text/plain": [
       "                                                 App        Category  Rating  \\\n",
       "0     Photo Editor & Candy Camera & Grid & ScrapBook  ART_AND_DESIGN     4.1   \n",
       "1                                Coloring book moana  ART_AND_DESIGN     3.9   \n",
       "2  U Launcher Lite – FREE Live Cool Themes, Hide ...  ART_AND_DESIGN     4.7   \n",
       "3                              Sketch - Draw & Paint  ART_AND_DESIGN     4.5   \n",
       "4              Pixel Draw - Number Art Coloring Book  ART_AND_DESIGN     4.3   \n",
       "\n",
       "  Reviews  Size     Installs  Type Price Content Rating  \\\n",
       "0     159   19M      10,000+  Free     0       Everyone   \n",
       "1     967   14M     500,000+  Free     0       Everyone   \n",
       "2   87510  8.7M   5,000,000+  Free     0       Everyone   \n",
       "3  215644   25M  50,000,000+  Free     0           Teen   \n",
       "4     967  2.8M     100,000+  Free     0       Everyone   \n",
       "\n",
       "                      Genres      Last Updated         Current Ver  \\\n",
       "0               Art & Design   January 7, 2018               1.0.0   \n",
       "1  Art & Design;Pretend Play  January 15, 2018               2.0.0   \n",
       "2               Art & Design    August 1, 2018               1.2.4   \n",
       "3               Art & Design      June 8, 2018  Varies with device   \n",
       "4    Art & Design;Creativity     June 20, 2018                 1.1   \n",
       "\n",
       "    Android Ver  \n",
       "0  4.0.3 and up  \n",
       "1  4.0.3 and up  \n",
       "2  4.0.3 and up  \n",
       "3    4.2 and up  \n",
       "4    4.4 and up  "
      ]
     },
     "execution_count": 2,
     "metadata": {},
     "output_type": "execute_result"
    }
   ],
   "source": [
    "# Loading the dataset\n",
    "df = pd.read_csv(\"googleplaystore.csv\")\n",
    "df.head()"
   ]
  },
  {
   "cell_type": "code",
   "execution_count": 3,
   "metadata": {},
   "outputs": [
    {
     "data": {
      "text/plain": [
       "Index(['App', 'Category', 'Rating', 'Reviews', 'Size', 'Installs', 'Type',\n",
       "       'Price', 'Content Rating', 'Genres', 'Last Updated', 'Current Ver',\n",
       "       'Android Ver'],\n",
       "      dtype='object')"
      ]
     },
     "execution_count": 3,
     "metadata": {},
     "output_type": "execute_result"
    }
   ],
   "source": [
    "# Columns from the dataset\n",
    "df.columns"
   ]
  },
  {
   "cell_type": "code",
   "execution_count": 4,
   "metadata": {},
   "outputs": [
    {
     "data": {
      "text/plain": [
       "(10841, 13)"
      ]
     },
     "execution_count": 4,
     "metadata": {},
     "output_type": "execute_result"
    }
   ],
   "source": [
    "# Size of the dataset before dropping all examples with a NaN rating value\n",
    "df.shape"
   ]
  },
  {
   "cell_type": "code",
   "execution_count": 5,
   "metadata": {},
   "outputs": [
    {
     "data": {
      "text/plain": [
       "(9367, 13)"
      ]
     },
     "execution_count": 5,
     "metadata": {},
     "output_type": "execute_result"
    }
   ],
   "source": [
    "# Size of the dataset after dropping all examples with a Nan rating value\n",
    "df = df[df['Rating'].notna()]\n",
    "df.shape"
   ]
  },
  {
   "cell_type": "code",
   "execution_count": 6,
   "metadata": {},
   "outputs": [],
   "source": [
    "# Splitting the dataset into a test set and a train set\n",
    "df_train, df_test = train_test_split(df, random_state=123)"
   ]
  },
  {
   "cell_type": "code",
   "execution_count": 7,
   "metadata": {},
   "outputs": [],
   "source": [
    "# For each of these columns/features, we will categorize them: \n",
    "target_name = 'Rating'\n",
    "\n",
    "numeric_features = ['Reviews']\n",
    "categorical_features = ['Category', 'Type', 'Content Rating', 'Genres', 'Installs', 'Price']\n",
    "drop_features = [target_name, 'Last Updated', 'Current Ver', 'Android Ver', 'Size']\n",
    "text_features = ['App']"
   ]
  },
  {
   "cell_type": "code",
   "execution_count": 8,
   "metadata": {},
   "outputs": [
    {
     "data": {
      "text/plain": [
       "(7025, 13)"
      ]
     },
     "execution_count": 8,
     "metadata": {},
     "output_type": "execute_result"
    }
   ],
   "source": [
    "# Size of the training set\n",
    "df_train.shape"
   ]
  },
  {
   "cell_type": "code",
   "execution_count": 9,
   "metadata": {},
   "outputs": [
    {
     "data": {
      "text/plain": [
       "(2342, 13)"
      ]
     },
     "execution_count": 9,
     "metadata": {},
     "output_type": "execute_result"
    }
   ],
   "source": [
    "# Size of the test set\n",
    "df_test.shape"
   ]
  },
  {
   "cell_type": "code",
   "execution_count": 10,
   "metadata": {},
   "outputs": [
    {
     "data": {
      "text/html": [
       "<div>\n",
       "<style scoped>\n",
       "    .dataframe tbody tr th:only-of-type {\n",
       "        vertical-align: middle;\n",
       "    }\n",
       "\n",
       "    .dataframe tbody tr th {\n",
       "        vertical-align: top;\n",
       "    }\n",
       "\n",
       "    .dataframe thead th {\n",
       "        text-align: right;\n",
       "    }\n",
       "</style>\n",
       "<table border=\"1\" class=\"dataframe\">\n",
       "  <thead>\n",
       "    <tr style=\"text-align: right;\">\n",
       "      <th></th>\n",
       "      <th>App</th>\n",
       "      <th>Category</th>\n",
       "      <th>Rating</th>\n",
       "      <th>Reviews</th>\n",
       "      <th>Size</th>\n",
       "      <th>Installs</th>\n",
       "      <th>Type</th>\n",
       "      <th>Price</th>\n",
       "      <th>Content Rating</th>\n",
       "      <th>Genres</th>\n",
       "      <th>Last Updated</th>\n",
       "      <th>Current Ver</th>\n",
       "      <th>Android Ver</th>\n",
       "    </tr>\n",
       "  </thead>\n",
       "  <tbody>\n",
       "    <tr>\n",
       "      <th>6232</th>\n",
       "      <td>Bh Public School</td>\n",
       "      <td>FAMILY</td>\n",
       "      <td>5.0</td>\n",
       "      <td>2</td>\n",
       "      <td>8.7M</td>\n",
       "      <td>10+</td>\n",
       "      <td>Free</td>\n",
       "      <td>0</td>\n",
       "      <td>Everyone</td>\n",
       "      <td>Education</td>\n",
       "      <td>March 21, 2018</td>\n",
       "      <td>1.2</td>\n",
       "      <td>4.0.3 and up</td>\n",
       "    </tr>\n",
       "    <tr>\n",
       "      <th>7895</th>\n",
       "      <td>Dine In CT - Food Delivery</td>\n",
       "      <td>SHOPPING</td>\n",
       "      <td>5.0</td>\n",
       "      <td>4</td>\n",
       "      <td>1.6M</td>\n",
       "      <td>1,000+</td>\n",
       "      <td>Free</td>\n",
       "      <td>0</td>\n",
       "      <td>Everyone</td>\n",
       "      <td>Shopping</td>\n",
       "      <td>May 16, 2016</td>\n",
       "      <td>1.3</td>\n",
       "      <td>4.0 and up</td>\n",
       "    </tr>\n",
       "    <tr>\n",
       "      <th>2455</th>\n",
       "      <td>FoothillsVet</td>\n",
       "      <td>MEDICAL</td>\n",
       "      <td>5.0</td>\n",
       "      <td>2</td>\n",
       "      <td>29M</td>\n",
       "      <td>50+</td>\n",
       "      <td>Free</td>\n",
       "      <td>0</td>\n",
       "      <td>Everyone</td>\n",
       "      <td>Medical</td>\n",
       "      <td>July 11, 2018</td>\n",
       "      <td>300000.1.11</td>\n",
       "      <td>4.0.3 and up</td>\n",
       "    </tr>\n",
       "    <tr>\n",
       "      <th>7142</th>\n",
       "      <td>Cb browser</td>\n",
       "      <td>COMMUNICATION</td>\n",
       "      <td>5.0</td>\n",
       "      <td>5</td>\n",
       "      <td>3.7M</td>\n",
       "      <td>50+</td>\n",
       "      <td>Free</td>\n",
       "      <td>0</td>\n",
       "      <td>Everyone</td>\n",
       "      <td>Communication</td>\n",
       "      <td>April 2, 2018</td>\n",
       "      <td>1.0</td>\n",
       "      <td>4.0 and up</td>\n",
       "    </tr>\n",
       "    <tr>\n",
       "      <th>8058</th>\n",
       "      <td>Oración CX</td>\n",
       "      <td>LIFESTYLE</td>\n",
       "      <td>5.0</td>\n",
       "      <td>103</td>\n",
       "      <td>3.8M</td>\n",
       "      <td>5,000+</td>\n",
       "      <td>Free</td>\n",
       "      <td>0</td>\n",
       "      <td>Everyone</td>\n",
       "      <td>Lifestyle</td>\n",
       "      <td>September 12, 2017</td>\n",
       "      <td>5.1.10</td>\n",
       "      <td>4.1 and up</td>\n",
       "    </tr>\n",
       "    <tr>\n",
       "      <th>...</th>\n",
       "      <td>...</td>\n",
       "      <td>...</td>\n",
       "      <td>...</td>\n",
       "      <td>...</td>\n",
       "      <td>...</td>\n",
       "      <td>...</td>\n",
       "      <td>...</td>\n",
       "      <td>...</td>\n",
       "      <td>...</td>\n",
       "      <td>...</td>\n",
       "      <td>...</td>\n",
       "      <td>...</td>\n",
       "      <td>...</td>\n",
       "    </tr>\n",
       "    <tr>\n",
       "      <th>8820</th>\n",
       "      <td>DS Creator 2.0</td>\n",
       "      <td>TOOLS</td>\n",
       "      <td>1.0</td>\n",
       "      <td>2</td>\n",
       "      <td>4.4M</td>\n",
       "      <td>500+</td>\n",
       "      <td>Free</td>\n",
       "      <td>0</td>\n",
       "      <td>Everyone</td>\n",
       "      <td>Tools</td>\n",
       "      <td>March 23, 2018</td>\n",
       "      <td>2.0.180226.1</td>\n",
       "      <td>4.0 and up</td>\n",
       "    </tr>\n",
       "    <tr>\n",
       "      <th>7806</th>\n",
       "      <td>CR Magazine</td>\n",
       "      <td>BUSINESS</td>\n",
       "      <td>1.0</td>\n",
       "      <td>1</td>\n",
       "      <td>7.8M</td>\n",
       "      <td>100+</td>\n",
       "      <td>Free</td>\n",
       "      <td>0</td>\n",
       "      <td>Everyone</td>\n",
       "      <td>Business</td>\n",
       "      <td>July 23, 2014</td>\n",
       "      <td>2.4.2</td>\n",
       "      <td>2.3.3 and up</td>\n",
       "    </tr>\n",
       "    <tr>\n",
       "      <th>5978</th>\n",
       "      <td>Truck Driving Test Class 3 BC</td>\n",
       "      <td>FAMILY</td>\n",
       "      <td>1.0</td>\n",
       "      <td>1</td>\n",
       "      <td>2.0M</td>\n",
       "      <td>50+</td>\n",
       "      <td>Paid</td>\n",
       "      <td>$1.49</td>\n",
       "      <td>Everyone</td>\n",
       "      <td>Education</td>\n",
       "      <td>April 9, 2012</td>\n",
       "      <td>1.0</td>\n",
       "      <td>2.1 and up</td>\n",
       "    </tr>\n",
       "    <tr>\n",
       "      <th>8875</th>\n",
       "      <td>DT future1 cam</td>\n",
       "      <td>TOOLS</td>\n",
       "      <td>1.0</td>\n",
       "      <td>1</td>\n",
       "      <td>24M</td>\n",
       "      <td>50+</td>\n",
       "      <td>Free</td>\n",
       "      <td>0</td>\n",
       "      <td>Everyone</td>\n",
       "      <td>Tools</td>\n",
       "      <td>March 27, 2018</td>\n",
       "      <td>3.1</td>\n",
       "      <td>2.2 and up</td>\n",
       "    </tr>\n",
       "    <tr>\n",
       "      <th>7926</th>\n",
       "      <td>Tech CU Card Manager</td>\n",
       "      <td>FINANCE</td>\n",
       "      <td>1.0</td>\n",
       "      <td>2</td>\n",
       "      <td>7.2M</td>\n",
       "      <td>1,000+</td>\n",
       "      <td>Free</td>\n",
       "      <td>0</td>\n",
       "      <td>Everyone</td>\n",
       "      <td>Finance</td>\n",
       "      <td>July 25, 2017</td>\n",
       "      <td>1.0.1</td>\n",
       "      <td>4.0 and up</td>\n",
       "    </tr>\n",
       "  </tbody>\n",
       "</table>\n",
       "<p>7025 rows × 13 columns</p>\n",
       "</div>"
      ],
      "text/plain": [
       "                                App       Category  Rating Reviews  Size  \\\n",
       "6232               Bh Public School         FAMILY     5.0       2  8.7M   \n",
       "7895     Dine In CT - Food Delivery       SHOPPING     5.0       4  1.6M   \n",
       "2455                   FoothillsVet        MEDICAL     5.0       2   29M   \n",
       "7142                     Cb browser  COMMUNICATION     5.0       5  3.7M   \n",
       "8058                     Oración CX      LIFESTYLE     5.0     103  3.8M   \n",
       "...                             ...            ...     ...     ...   ...   \n",
       "8820                 DS Creator 2.0          TOOLS     1.0       2  4.4M   \n",
       "7806                    CR Magazine       BUSINESS     1.0       1  7.8M   \n",
       "5978  Truck Driving Test Class 3 BC         FAMILY     1.0       1  2.0M   \n",
       "8875                 DT future1 cam          TOOLS     1.0       1   24M   \n",
       "7926           Tech CU Card Manager        FINANCE     1.0       2  7.2M   \n",
       "\n",
       "     Installs  Type  Price Content Rating         Genres        Last Updated  \\\n",
       "6232      10+  Free      0       Everyone      Education      March 21, 2018   \n",
       "7895   1,000+  Free      0       Everyone       Shopping        May 16, 2016   \n",
       "2455      50+  Free      0       Everyone        Medical       July 11, 2018   \n",
       "7142      50+  Free      0       Everyone  Communication       April 2, 2018   \n",
       "8058   5,000+  Free      0       Everyone      Lifestyle  September 12, 2017   \n",
       "...       ...   ...    ...            ...            ...                 ...   \n",
       "8820     500+  Free      0       Everyone          Tools      March 23, 2018   \n",
       "7806     100+  Free      0       Everyone       Business       July 23, 2014   \n",
       "5978      50+  Paid  $1.49       Everyone      Education       April 9, 2012   \n",
       "8875      50+  Free      0       Everyone          Tools      March 27, 2018   \n",
       "7926   1,000+  Free      0       Everyone        Finance       July 25, 2017   \n",
       "\n",
       "       Current Ver   Android Ver  \n",
       "6232           1.2  4.0.3 and up  \n",
       "7895           1.3    4.0 and up  \n",
       "2455   300000.1.11  4.0.3 and up  \n",
       "7142           1.0    4.0 and up  \n",
       "8058        5.1.10    4.1 and up  \n",
       "...            ...           ...  \n",
       "8820  2.0.180226.1    4.0 and up  \n",
       "7806         2.4.2  2.3.3 and up  \n",
       "5978           1.0    2.1 and up  \n",
       "8875           3.1    2.2 and up  \n",
       "7926         1.0.1    4.0 and up  \n",
       "\n",
       "[7025 rows x 13 columns]"
      ]
     },
     "execution_count": 10,
     "metadata": {},
     "output_type": "execute_result"
    }
   ],
   "source": [
    "# Exploratory Data Analysis- Highest and lowest ratings in the training set\n",
    "df_train.sort_values('Rating', ascending= False)"
   ]
  },
  {
   "cell_type": "code",
   "execution_count": 11,
   "metadata": {},
   "outputs": [
    {
     "data": {
      "text/plain": [
       "4.194861209964413"
      ]
     },
     "execution_count": 11,
     "metadata": {},
     "output_type": "execute_result"
    }
   ],
   "source": [
    "# Exploratory Data Analysis- Average rating of an app in the training dataset\n",
    "df_train['Rating'].mean()"
   ]
  },
  {
   "cell_type": "code",
   "execution_count": 12,
   "metadata": {},
   "outputs": [
    {
     "data": {
      "text/plain": [
       "4.4    822\n",
       "4.3    809\n",
       "4.5    772\n",
       "4.2    702\n",
       "4.6    637\n",
       "4.1    541\n",
       "4.0    418\n",
       "4.7    371\n",
       "3.9    291\n",
       "3.8    225\n",
       "5.0    200\n",
       "3.7    196\n",
       "4.8    190\n",
       "3.6    130\n",
       "3.5    117\n",
       "3.4     89\n",
       "3.3     76\n",
       "3.0     68\n",
       "4.9     66\n",
       "3.1     54\n",
       "3.2     43\n",
       "2.9     33\n",
       "2.8     29\n",
       "2.7     19\n",
       "2.6     19\n",
       "2.5     18\n",
       "2.3     16\n",
       "2.4     12\n",
       "1.9     11\n",
       "1.0     10\n",
       "2.2      9\n",
       "2.0      8\n",
       "1.8      6\n",
       "1.7      6\n",
       "2.1      5\n",
       "1.6      2\n",
       "1.5      2\n",
       "1.4      2\n",
       "1.2      1\n",
       "Name: Rating, dtype: int64"
      ]
     },
     "execution_count": 12,
     "metadata": {},
     "output_type": "execute_result"
    }
   ],
   "source": [
    "# Exploratory Data Analysis- The different rating values in the training set\n",
    "df_train['Rating'].value_counts()"
   ]
  },
  {
   "cell_type": "code",
   "execution_count": 13,
   "metadata": {},
   "outputs": [
    {
     "data": {
      "image/png": "[encoded data removed]",
      "text/plain": [
       "<Figure size 432x288 with 1 Axes>"
      ]
     },
     "metadata": {
      "needs_background": "light"
     },
     "output_type": "display_data"
    }
   ],
   "source": [
    "# Outlier Detection- No outliers are apparent because the ratings range from 0 to 5\n",
    "df_train[\"Rating\"].hist();"
   ]
  },
  {
   "cell_type": "code",
   "execution_count": 14,
   "metadata": {},
   "outputs": [],
   "source": [
    "# We will now separate the data in the training set into a validation set and training set\n",
    "X_train = df_train.drop(columns=drop_features)\n",
    "y_train = df_train[target_name]\n",
    "\n",
    "X_test  = df_test.drop(columns=drop_features)\n",
    "y_test  = df_test[target_name]"
   ]
  },
  {
   "cell_type": "code",
   "execution_count": 15,
   "metadata": {},
   "outputs": [],
   "source": [
    "# We will now build a preprocessing pipeline\n",
    "numeric_transformer = Pipeline([\n",
    "    ('imputer', SimpleImputer(strategy='constant')),\n",
    "    ('quantile', StandardScaler())\n",
    "])\n",
    "\n",
    "categorical_transformer = Pipeline([\n",
    "    ('imputer', SimpleImputer(strategy='constant')),\n",
    "    ('onehot', OneHotEncoder(handle_unknown='ignore', sparse= False))\n",
    "])\n",
    "\n",
    "text_transformer = Pipeline([\n",
    "    ('imputer', SimpleImputer(strategy='constant', fill_value='')),\n",
    "    ('tolist', FunctionTransformer(lambda x: x.ravel(), validate=False)),\n",
    "    ('countvec', CountVectorizer(max_features=100, max_df=100, min_df=1, stop_words='english'))\n",
    "])\n",
    "\n",
    "preprocessor = ColumnTransformer([\n",
    "    ('numeric', numeric_transformer, numeric_features),\n",
    "    ('ohe', categorical_transformer, categorical_features)]\n",
    "    + [(f, text_transformer, [f]) for f in text_features],\n",
    "    remainder='passthrough')\n",
    "preprocessor.fit(df_train);"
   ]
  },
  {
   "cell_type": "markdown",
   "metadata": {},
   "source": [
    "## Trying Different Models"
   ]
  },
  {
   "cell_type": "code",
   "execution_count": 16,
   "metadata": {},
   "outputs": [
    {
     "data": {
      "text/plain": [
       "-0.00033480961438874245"
      ]
     },
     "execution_count": 16,
     "metadata": {},
     "output_type": "execute_result"
    }
   ],
   "source": [
    "# Baseline\n",
    "dr = DummyRegressor()\n",
    "cross_val_score(dr, X_train, y_train).mean()"
   ]
  },
  {
   "cell_type": "code",
   "execution_count": 17,
   "metadata": {},
   "outputs": [
    {
     "data": {
      "text/html": [
       "<div>\n",
       "<style scoped>\n",
       "    .dataframe tbody tr th:only-of-type {\n",
       "        vertical-align: middle;\n",
       "    }\n",
       "\n",
       "    .dataframe tbody tr th {\n",
       "        vertical-align: top;\n",
       "    }\n",
       "\n",
       "    .dataframe thead th {\n",
       "        text-align: right;\n",
       "    }\n",
       "</style>\n",
       "<table border=\"1\" class=\"dataframe\">\n",
       "  <thead>\n",
       "    <tr style=\"text-align: right;\">\n",
       "      <th></th>\n",
       "      <th>fit_time</th>\n",
       "      <th>score_time</th>\n",
       "      <th>test_score</th>\n",
       "      <th>train_score</th>\n",
       "    </tr>\n",
       "  </thead>\n",
       "  <tbody>\n",
       "    <tr>\n",
       "      <th>0</th>\n",
       "      <td>0.142886</td>\n",
       "      <td>0.019207</td>\n",
       "      <td>0.089161</td>\n",
       "      <td>0.141245</td>\n",
       "    </tr>\n",
       "    <tr>\n",
       "      <th>1</th>\n",
       "      <td>0.142993</td>\n",
       "      <td>0.021163</td>\n",
       "      <td>0.054766</td>\n",
       "      <td>0.146994</td>\n",
       "    </tr>\n",
       "    <tr>\n",
       "      <th>2</th>\n",
       "      <td>0.146989</td>\n",
       "      <td>0.020080</td>\n",
       "      <td>0.097651</td>\n",
       "      <td>0.141271</td>\n",
       "    </tr>\n",
       "    <tr>\n",
       "      <th>3</th>\n",
       "      <td>0.137724</td>\n",
       "      <td>0.018952</td>\n",
       "      <td>0.061298</td>\n",
       "      <td>0.143481</td>\n",
       "    </tr>\n",
       "    <tr>\n",
       "      <th>4</th>\n",
       "      <td>0.141152</td>\n",
       "      <td>0.019249</td>\n",
       "      <td>0.113739</td>\n",
       "      <td>0.140932</td>\n",
       "    </tr>\n",
       "    <tr>\n",
       "      <th>5</th>\n",
       "      <td>0.137158</td>\n",
       "      <td>0.019097</td>\n",
       "      <td>0.106842</td>\n",
       "      <td>0.138932</td>\n",
       "    </tr>\n",
       "    <tr>\n",
       "      <th>6</th>\n",
       "      <td>0.157160</td>\n",
       "      <td>0.019158</td>\n",
       "      <td>0.105119</td>\n",
       "      <td>0.140776</td>\n",
       "    </tr>\n",
       "    <tr>\n",
       "      <th>7</th>\n",
       "      <td>0.134227</td>\n",
       "      <td>0.018941</td>\n",
       "      <td>0.126236</td>\n",
       "      <td>0.139232</td>\n",
       "    </tr>\n",
       "    <tr>\n",
       "      <th>8</th>\n",
       "      <td>0.145902</td>\n",
       "      <td>0.019325</td>\n",
       "      <td>0.115790</td>\n",
       "      <td>0.138561</td>\n",
       "    </tr>\n",
       "    <tr>\n",
       "      <th>9</th>\n",
       "      <td>0.144100</td>\n",
       "      <td>0.020762</td>\n",
       "      <td>0.117649</td>\n",
       "      <td>0.138491</td>\n",
       "    </tr>\n",
       "  </tbody>\n",
       "</table>\n",
       "</div>"
      ],
      "text/plain": [
       "   fit_time  score_time  test_score  train_score\n",
       "0  0.142886    0.019207    0.089161     0.141245\n",
       "1  0.142993    0.021163    0.054766     0.146994\n",
       "2  0.146989    0.020080    0.097651     0.141271\n",
       "3  0.137724    0.018952    0.061298     0.143481\n",
       "4  0.141152    0.019249    0.113739     0.140932\n",
       "5  0.137158    0.019097    0.106842     0.138932\n",
       "6  0.157160    0.019158    0.105119     0.140776\n",
       "7  0.134227    0.018941    0.126236     0.139232\n",
       "8  0.145902    0.019325    0.115790     0.138561\n",
       "9  0.144100    0.020762    0.117649     0.138491"
      ]
     },
     "execution_count": 17,
     "metadata": {},
     "output_type": "execute_result"
    }
   ],
   "source": [
    "# Linear Model- Using Ridge\n",
    "lr = Pipeline([\n",
    "    (\"preprocessor\", preprocessor),\n",
    "    (\"ridge\", Ridge(alpha= 10))\n",
    "])\n",
    "lr.fit(X_train, y_train)\n",
    "pd.DataFrame(cross_validate(lr, X_train, y_train, return_train_score= True, cv = 10))"
   ]
  },
  {
   "cell_type": "code",
   "execution_count": 18,
   "metadata": {},
   "outputs": [
    {
     "data": {
      "text/plain": [
       "0.09573303204882413"
      ]
     },
     "execution_count": 18,
     "metadata": {},
     "output_type": "execute_result"
    }
   ],
   "source": [
    "# Average validation score across 10 folds for Ridge\n",
    "cross_val_score(lr, X_train, y_train).mean()"
   ]
  },
  {
   "cell_type": "code",
   "execution_count": 19,
   "metadata": {},
   "outputs": [
    {
     "data": {
      "text/html": [
       "<div>\n",
       "<style scoped>\n",
       "    .dataframe tbody tr th:only-of-type {\n",
       "        vertical-align: middle;\n",
       "    }\n",
       "\n",
       "    .dataframe tbody tr th {\n",
       "        vertical-align: top;\n",
       "    }\n",
       "\n",
       "    .dataframe thead th {\n",
       "        text-align: right;\n",
       "    }\n",
       "</style>\n",
       "<table border=\"1\" class=\"dataframe\">\n",
       "  <thead>\n",
       "    <tr style=\"text-align: right;\">\n",
       "      <th></th>\n",
       "      <th>fit_time</th>\n",
       "      <th>score_time</th>\n",
       "      <th>test_score</th>\n",
       "      <th>train_score</th>\n",
       "    </tr>\n",
       "  </thead>\n",
       "  <tbody>\n",
       "    <tr>\n",
       "      <th>0</th>\n",
       "      <td>0.232492</td>\n",
       "      <td>0.027107</td>\n",
       "      <td>0.116548</td>\n",
       "      <td>0.358541</td>\n",
       "    </tr>\n",
       "    <tr>\n",
       "      <th>1</th>\n",
       "      <td>0.231329</td>\n",
       "      <td>0.024302</td>\n",
       "      <td>0.123491</td>\n",
       "      <td>0.358410</td>\n",
       "    </tr>\n",
       "    <tr>\n",
       "      <th>2</th>\n",
       "      <td>0.232005</td>\n",
       "      <td>0.024794</td>\n",
       "      <td>0.206273</td>\n",
       "      <td>0.349959</td>\n",
       "    </tr>\n",
       "    <tr>\n",
       "      <th>3</th>\n",
       "      <td>0.235908</td>\n",
       "      <td>0.024421</td>\n",
       "      <td>0.112438</td>\n",
       "      <td>0.361493</td>\n",
       "    </tr>\n",
       "    <tr>\n",
       "      <th>4</th>\n",
       "      <td>0.348994</td>\n",
       "      <td>0.024217</td>\n",
       "      <td>0.162518</td>\n",
       "      <td>0.361068</td>\n",
       "    </tr>\n",
       "    <tr>\n",
       "      <th>5</th>\n",
       "      <td>0.235485</td>\n",
       "      <td>0.024199</td>\n",
       "      <td>0.238417</td>\n",
       "      <td>0.348713</td>\n",
       "    </tr>\n",
       "    <tr>\n",
       "      <th>6</th>\n",
       "      <td>0.233370</td>\n",
       "      <td>0.024767</td>\n",
       "      <td>0.148091</td>\n",
       "      <td>0.358346</td>\n",
       "    </tr>\n",
       "    <tr>\n",
       "      <th>7</th>\n",
       "      <td>0.226884</td>\n",
       "      <td>0.024987</td>\n",
       "      <td>0.225595</td>\n",
       "      <td>0.351263</td>\n",
       "    </tr>\n",
       "    <tr>\n",
       "      <th>8</th>\n",
       "      <td>0.317490</td>\n",
       "      <td>0.029300</td>\n",
       "      <td>0.202852</td>\n",
       "      <td>0.349819</td>\n",
       "    </tr>\n",
       "    <tr>\n",
       "      <th>9</th>\n",
       "      <td>0.233570</td>\n",
       "      <td>0.024984</td>\n",
       "      <td>0.213051</td>\n",
       "      <td>0.351510</td>\n",
       "    </tr>\n",
       "  </tbody>\n",
       "</table>\n",
       "</div>"
      ],
      "text/plain": [
       "   fit_time  score_time  test_score  train_score\n",
       "0  0.232492    0.027107    0.116548     0.358541\n",
       "1  0.231329    0.024302    0.123491     0.358410\n",
       "2  0.232005    0.024794    0.206273     0.349959\n",
       "3  0.235908    0.024421    0.112438     0.361493\n",
       "4  0.348994    0.024217    0.162518     0.361068\n",
       "5  0.235485    0.024199    0.238417     0.348713\n",
       "6  0.233370    0.024767    0.148091     0.358346\n",
       "7  0.226884    0.024987    0.225595     0.351263\n",
       "8  0.317490    0.029300    0.202852     0.349819\n",
       "9  0.233570    0.024984    0.213051     0.351510"
      ]
     },
     "execution_count": 19,
     "metadata": {},
     "output_type": "execute_result"
    }
   ],
   "source": [
    "# Trying LGBM Regressor\n",
    "lgbm = Pipeline([\n",
    "    (\"preprocessor\", preprocessor),\n",
    "    (\"lgbm\", LGBMRegressor())\n",
    "])\n",
    "lgbm.fit(X_train, y_train)\n",
    "pd.DataFrame(cross_validate(lgbm, X_train, y_train, return_train_score= True, cv = 10))"
   ]
  },
  {
   "cell_type": "code",
   "execution_count": 20,
   "metadata": {},
   "outputs": [
    {
     "data": {
      "text/plain": [
       "0.17280591531398468"
      ]
     },
     "execution_count": 20,
     "metadata": {},
     "output_type": "execute_result"
    }
   ],
   "source": [
    "# Average validation score across 10 folds for Ridge\n",
    "cross_val_score(lgbm, X_train, y_train).mean()"
   ]
  },
  {
   "cell_type": "code",
   "execution_count": 36,
   "metadata": {},
   "outputs": [
    {
     "data": {
      "text/html": [
       "<div>\n",
       "<style scoped>\n",
       "    .dataframe tbody tr th:only-of-type {\n",
       "        vertical-align: middle;\n",
       "    }\n",
       "\n",
       "    .dataframe tbody tr th {\n",
       "        vertical-align: top;\n",
       "    }\n",
       "\n",
       "    .dataframe thead th {\n",
       "        text-align: right;\n",
       "    }\n",
       "</style>\n",
       "<table border=\"1\" class=\"dataframe\">\n",
       "  <thead>\n",
       "    <tr style=\"text-align: right;\">\n",
       "      <th></th>\n",
       "      <th>fit_time</th>\n",
       "      <th>score_time</th>\n",
       "      <th>test_score</th>\n",
       "      <th>train_score</th>\n",
       "    </tr>\n",
       "  </thead>\n",
       "  <tbody>\n",
       "    <tr>\n",
       "      <th>0</th>\n",
       "      <td>0.266857</td>\n",
       "      <td>0.029367</td>\n",
       "      <td>0.116548</td>\n",
       "      <td>0.358541</td>\n",
       "    </tr>\n",
       "    <tr>\n",
       "      <th>1</th>\n",
       "      <td>0.257952</td>\n",
       "      <td>0.024777</td>\n",
       "      <td>0.123491</td>\n",
       "      <td>0.358410</td>\n",
       "    </tr>\n",
       "    <tr>\n",
       "      <th>2</th>\n",
       "      <td>0.246726</td>\n",
       "      <td>0.026166</td>\n",
       "      <td>0.206273</td>\n",
       "      <td>0.349959</td>\n",
       "    </tr>\n",
       "    <tr>\n",
       "      <th>3</th>\n",
       "      <td>0.237215</td>\n",
       "      <td>0.024707</td>\n",
       "      <td>0.112438</td>\n",
       "      <td>0.361493</td>\n",
       "    </tr>\n",
       "    <tr>\n",
       "      <th>4</th>\n",
       "      <td>0.233875</td>\n",
       "      <td>0.024276</td>\n",
       "      <td>0.162518</td>\n",
       "      <td>0.361068</td>\n",
       "    </tr>\n",
       "    <tr>\n",
       "      <th>5</th>\n",
       "      <td>0.338320</td>\n",
       "      <td>0.025101</td>\n",
       "      <td>0.238417</td>\n",
       "      <td>0.348713</td>\n",
       "    </tr>\n",
       "    <tr>\n",
       "      <th>6</th>\n",
       "      <td>0.262739</td>\n",
       "      <td>0.025231</td>\n",
       "      <td>0.148091</td>\n",
       "      <td>0.358346</td>\n",
       "    </tr>\n",
       "    <tr>\n",
       "      <th>7</th>\n",
       "      <td>0.228689</td>\n",
       "      <td>0.024339</td>\n",
       "      <td>0.225595</td>\n",
       "      <td>0.351263</td>\n",
       "    </tr>\n",
       "    <tr>\n",
       "      <th>8</th>\n",
       "      <td>0.228879</td>\n",
       "      <td>0.026214</td>\n",
       "      <td>0.202852</td>\n",
       "      <td>0.349819</td>\n",
       "    </tr>\n",
       "    <tr>\n",
       "      <th>9</th>\n",
       "      <td>0.230969</td>\n",
       "      <td>0.024414</td>\n",
       "      <td>0.213051</td>\n",
       "      <td>0.351510</td>\n",
       "    </tr>\n",
       "  </tbody>\n",
       "</table>\n",
       "</div>"
      ],
      "text/plain": [
       "   fit_time  score_time  test_score  train_score\n",
       "0  0.266857    0.029367    0.116548     0.358541\n",
       "1  0.257952    0.024777    0.123491     0.358410\n",
       "2  0.246726    0.026166    0.206273     0.349959\n",
       "3  0.237215    0.024707    0.112438     0.361493\n",
       "4  0.233875    0.024276    0.162518     0.361068\n",
       "5  0.338320    0.025101    0.238417     0.348713\n",
       "6  0.262739    0.025231    0.148091     0.358346\n",
       "7  0.228689    0.024339    0.225595     0.351263\n",
       "8  0.228879    0.026214    0.202852     0.349819\n",
       "9  0.230969    0.024414    0.213051     0.351510"
      ]
     },
     "execution_count": 36,
     "metadata": {},
     "output_type": "execute_result"
    }
   ],
   "source": [
    "# Trying RandomForestRegressor \n",
    "rfr = Pipeline([\n",
    "    (\"preprocessor\", preprocessor),\n",
    "    (\"rfr\", RandomForestRegressor(max_depth= 10, max_features= 100, n_estimators= 100))\n",
    "])\n",
    "rfr.fit(X_train, y_train)\n",
    "pd.DataFrame(cross_validate(lgbm, X_train, y_train, return_train_score= True, cv = 10))"
   ]
  },
  {
   "cell_type": "code",
   "execution_count": 37,
   "metadata": {},
   "outputs": [
    {
     "data": {
      "text/plain": [
       "0.1253102383699378"
      ]
     },
     "execution_count": 37,
     "metadata": {},
     "output_type": "execute_result"
    }
   ],
   "source": [
    "# Average validation score across 10 folds for Ridge\n",
    "cross_val_score(rfr, X_train, y_train).mean()"
   ]
  },
  {
   "cell_type": "markdown",
   "metadata": {},
   "source": [
    "## Hyperparameter Tuning"
   ]
  },
  {
   "cell_type": "code",
   "execution_count": 26,
   "metadata": {},
   "outputs": [
    {
     "name": "stdout",
     "output_type": "stream",
     "text": [
      "Fitting 5 folds for each of 81 candidates, totalling 405 fits\n"
     ]
    },
    {
     "name": "stderr",
     "output_type": "stream",
     "text": [
      "[Parallel(n_jobs=-1)]: Using backend LokyBackend with 4 concurrent workers.\n",
      "[Parallel(n_jobs=-1)]: Done  33 tasks      | elapsed:    2.3s\n",
      "[Parallel(n_jobs=-1)]: Done 154 tasks      | elapsed:   10.0s\n",
      "[Parallel(n_jobs=-1)]: Done 357 tasks      | elapsed:   28.2s\n",
      "[Parallel(n_jobs=-1)]: Done 405 out of 405 | elapsed:   33.6s finished\n"
     ]
    },
    {
     "data": {
      "text/plain": [
       "{'preprocessor__App__countvec__max_df': 100,\n",
       " 'preprocessor__App__countvec__max_features': 1000,\n",
       " 'preprocessor__App__countvec__min_df': 1,\n",
       " 'ridge__alpha': 10}"
      ]
     },
     "execution_count": 26,
     "metadata": {},
     "output_type": "execute_result"
    }
   ],
   "source": [
    "# Tuning Ridge's hyperparameters\n",
    "param_grid = {\n",
    "    \"ridge__alpha\" : [1, 10, 100],\n",
    "    \"preprocessor__App__countvec__max_features\" : [10, 100, 1000],\n",
    "    \"preprocessor__App__countvec__min_df\" : [1, 10, 100],\n",
    "    \"preprocessor__App__countvec__max_df\" : [1, 10, 100],\n",
    "}   \n",
    "grid_search_lr = GridSearchCV(lr, param_grid, verbose= 2, n_jobs= -1)\n",
    "grid_search_lr.fit(X_train, y_train)\n",
    "grid_search_lr.best_params_"
   ]
  },
  {
   "cell_type": "code",
   "execution_count": 31,
   "metadata": {},
   "outputs": [
    {
     "name": "stdout",
     "output_type": "stream",
     "text": [
      "Fitting 5 folds for each of 27 candidates, totalling 135 fits\n"
     ]
    },
    {
     "name": "stderr",
     "output_type": "stream",
     "text": [
      "[Parallel(n_jobs=-1)]: Using backend LokyBackend with 4 concurrent workers.\n",
      "[Parallel(n_jobs=-1)]: Done  33 tasks      | elapsed:    6.0s\n",
      "[Parallel(n_jobs=-1)]: Done 135 out of 135 | elapsed:   17.9s finished\n"
     ]
    },
    {
     "data": {
      "text/plain": [
       "{'preprocessor__App__countvec__max_df': 100,\n",
       " 'preprocessor__App__countvec__max_features': 1000,\n",
       " 'preprocessor__App__countvec__min_df': 1}"
      ]
     },
     "execution_count": 31,
     "metadata": {},
     "output_type": "execute_result"
    }
   ],
   "source": [
    "# Tuning LGBMRegressor's hyperparameters\n",
    "param_grid = {\n",
    "    \"preprocessor__App__countvec__max_features\" : [10, 100, 1000],\n",
    "    \"preprocessor__App__countvec__min_df\" : [1, 10, 100],\n",
    "    \"preprocessor__App__countvec__max_df\" : [1, 10, 100],\n",
    "}   \n",
    "grid_search_lgbm = GridSearchCV(lgbm, param_grid, verbose= 2, n_jobs= -1)\n",
    "grid_search_lgbm.fit(X_train, y_train)\n",
    "grid_search_lgbm.best_params_"
   ]
  },
  {
   "cell_type": "code",
   "execution_count": 34,
   "metadata": {},
   "outputs": [
    {
     "name": "stdout",
     "output_type": "stream",
     "text": [
      "Fitting 5 folds for each of 27 candidates, totalling 135 fits\n"
     ]
    },
    {
     "name": "stderr",
     "output_type": "stream",
     "text": [
      "[Parallel(n_jobs=-1)]: Using backend LokyBackend with 4 concurrent workers.\n",
      "[Parallel(n_jobs=-1)]: Done  33 tasks      | elapsed:    3.9s\n",
      "[Parallel(n_jobs=-1)]: Done 135 out of 135 | elapsed:   59.4s finished\n"
     ]
    },
    {
     "data": {
      "text/plain": [
       "{'rfr__max_depth': 10, 'rfr__max_features': 100, 'rfr__n_estimators': 100}"
      ]
     },
     "execution_count": 34,
     "metadata": {},
     "output_type": "execute_result"
    }
   ],
   "source": [
    "# Tuning RandomForestRegressor's hyperparameters\n",
    "param_grid = {\n",
    "    \"rfr__max_depth\" : [1, 10, 100],\n",
    "    \"rfr__max_features\" : [1, 10, 100],\n",
    "    \"rfr__n_estimators\" : [1, 10, 100]\n",
    "}   \n",
    "grid_search_rfr = GridSearchCV(rfr, param_grid, verbose= 2, n_jobs= -1)\n",
    "grid_search_rfr.fit(X_train, y_train)\n",
    "grid_search_rfr.best_params_"
   ]
  },
  {
   "cell_type": "code",
   "execution_count": null,
   "metadata": {},
   "outputs": [],
   "source": []
  }
 ],
 "metadata": {
  "kernelspec": {
   "display_name": "Python 3",
   "language": "python",
   "name": "python3"
  },
  "language_info": {
   "codemirror_mode": {
    "name": "ipython",
    "version": 3
   },
   "file_extension": ".py",
   "mimetype": "text/x-python",
   "name": "python",
   "nbconvert_exporter": "python",
   "pygments_lexer": "ipython3",
   "version": "3.8.5"
  }
 },
 "nbformat": 4,
 "nbformat_minor": 4
}
